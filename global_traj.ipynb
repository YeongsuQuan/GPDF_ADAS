{
 "cells": [
  {
   "attachments": {},
   "cell_type": "markdown",
   "id": "fa410652",
   "metadata": {},
   "source": [
    "### Initialization"
   ]
  },
  {
   "cell_type": "code",
   "execution_count": 1,
   "id": "51c0069f",
   "metadata": {},
   "outputs": [
    {
     "name": "stderr",
     "output_type": "stream",
     "text": [
      "/Users/quany/Library/Python/3.9/lib/python/site-packages/urllib3/__init__.py:35: NotOpenSSLWarning: urllib3 v2 only supports OpenSSL 1.1.1+, currently the 'ssl' module is compiled with 'LibreSSL 2.8.3'. See: https://github.com/urllib3/urllib3/issues/3020\n",
      "  warnings.warn(\n"
     ]
    },
    {
     "data": {
      "application/vnd.jupyter.widget-view+json": {
       "model_id": "03c05bfb2d504ff1b2437996c2846813",
       "version_major": 2,
       "version_minor": 0
      },
      "text/plain": [
       "Loading infos: 0it [00:00, ?it/s]"
      ]
     },
     "metadata": {},
     "output_type": "display_data"
    }
   ],
   "source": [
    "%load_ext autoreload\n",
    "%autoreload 2\n",
    "import sys\n",
    "\n",
    "sys.path.append(\"../\")\n",
    "\n",
    "from typing import List\n",
    "\n",
    "import numpy as np\n",
    "from matplotlib import pyplot as plt\n",
    "import open3d as o3d\n",
    "import pandas as pd\n",
    "import cv2 as cv\n",
    "\n",
    "\n",
    "\n",
    "%matplotlib inline\n",
    "# plt.rcParams[\"figure.figsize\"] = [20, 10]\n",
    "\n",
    "# import the ZOD DevKit\n",
    "from zod import ZodSequences\n",
    "\n",
    "# NOTE! Set the path to dataset and choose a version\n",
    "folder_path = \"/Users/quany/Downloads/GPDF_MPC_ADAS\"  # local folder \n",
    "dataset_root = folder_path+\"/mini\"  # your local path to zod\n",
    "version = \"full\"  # \"mini\" or \"full\"\n",
    "\n",
    "# initialize ZodSequences\n",
    "zod_sequences = ZodSequences(dataset_root=dataset_root, version=version)\n",
    "\n",
    "# Fetch certain zod sequence\n",
    "seq = zod_sequences[330]"
   ]
  },
  {
   "cell_type": "markdown",
   "id": "0b8b47a9",
   "metadata": {},
   "source": [
    "### Log tracking results"
   ]
  },
  {
   "cell_type": "code",
   "execution_count": 6,
   "id": "b77e1c10",
   "metadata": {},
   "outputs": [],
   "source": [
    "import pickle\n",
    "\n",
    "# Load tracking result from the file\n",
    "file_path = folder_path+\"/log_obs3_file.pkl\"\n",
    "\n",
    "with open(file_path, 'rb') as file:\n",
    "    log_obs3 = pickle.load(file)\n",
    "\n",
    "# Read lidar timestamps\n",
    "T_lidar = []\n",
    "frames = seq.info.get_lidar_frames()\n",
    "for i, frame in enumerate(frames):\n",
    "    lidar_frame = frame\n",
    "    pcd = seq.get_compensated_lidar(lidar_frame.time)\n",
    "    pcd_timestamp = pcd.timestamps[0]\n",
    "    T_lidar.append(pcd_timestamp)\n",
    "\n",
    "# Filter out the tracking result with empty detection and the corresponding lidar frame\n",
    "obs_filtered = []\n",
    "T_lidar_filtered = []\n",
    "for i, log in enumerate(log_obs3):\n",
    "    if len(log) > 0:\n",
    "        obs_filtered.append(log)\n",
    "        T_lidar_filtered.append(T_lidar[i])\n",
    "\n"
   ]
  },
  {
   "cell_type": "markdown",
   "id": "1999e332",
   "metadata": {},
   "source": [
    "### Log OxTS data"
   ]
  },
  {
   "cell_type": "code",
   "execution_count": 7,
   "id": "a5984ab0",
   "metadata": {},
   "outputs": [],
   "source": [
    "# Read oxts data with the closest timestamps in the T_oxts for each timestamp in T_lidar\n",
    "# X_oxts = seq.oxts.poses[:,0]\n",
    "# Y_oxts = seq.oxts.poses[:,1]\n",
    "V_oxts = seq.oxts.velocities[:,0]\n",
    "A_oxts = seq.oxts.accelerations[:,0]\n",
    "T_oxts = seq.oxts.timestamps\n",
    "\n",
    "# Interpolate the oxts data to the timestamps in T_lidar\n",
    "# X_ego = []\n",
    "# Y_ego = []\n",
    "V_ego = []\n",
    "A_ego = []\n",
    "for t in T_lidar_filtered:\n",
    "    idx = np.argmin(np.abs(T_oxts - t))\n",
    "    # X_ego.append(X_oxts[idx])\n",
    "    # Y_ego.append(Y_oxts[idx])\n",
    "    V_ego.append(V_oxts[idx])\n",
    "    A_ego.append(A_oxts[idx])\n",
    "\n",
    "# integrate V_lon_closest to get the distance with repect to timestamps in T_lidar\n",
    "X_ego = np.zeros(len(V_ego))\n",
    "Y_ego = np.zeros(len(V_ego))\n",
    "for i in range(1, len(V_ego)):\n",
    "    X_ego[i] = X_ego[i-1] + V_ego[i] * (T_lidar[i] - T_lidar[i-1])\n"
   ]
  },
  {
   "cell_type": "markdown",
   "id": "0f1a5824",
   "metadata": {},
   "source": [
    "### Project tracking result to global frame"
   ]
  },
  {
   "cell_type": "code",
   "execution_count": 8,
   "id": "cbc81dfe",
   "metadata": {},
   "outputs": [],
   "source": [
    "# Extract the local tracking results from log_obs3\n",
    "obs_pos = []\n",
    "for i, x in enumerate(obs_filtered):\n",
    "    if x == []:\n",
    "        pos = []\n",
    "    else:\n",
    "        pos = (X_ego[i]+x[0][3] - x[0][5],Y_ego[i]-(x[0][2] + 0.5 * x[0][4]))\n",
    "    obs_pos.append(pos)\n"
   ]
  },
  {
   "cell_type": "markdown",
   "id": "3bb18f88",
   "metadata": {},
   "source": [
    "### Log to .mat file"
   ]
  },
  {
   "cell_type": "code",
   "execution_count": 9,
   "id": "6aa888c8",
   "metadata": {},
   "outputs": [
    {
     "name": "stdout",
     "output_type": "stream",
     "text": [
      "Data has been saved to the MATLAB file\n"
     ]
    }
   ],
   "source": [
    "import scipy.io as sio\n",
    "\n",
    "# Save the tracking results and ego vehicle velocity to a file for MATLAB\n",
    "file_path = folder_path+\"/log330.mat\"\n",
    "sio.savemat(file_path, {\n",
    "    'obs_pos': obs_pos,\n",
    "    'A_ego': A_ego,\n",
    "    'V_ego': V_ego,\n",
    "    'X_ego': X_ego,\n",
    "    'Y_ego': Y_ego,\n",
    "    'obs_timestamp': T_lidar_filtered\n",
    "})\n",
    "print(\"Data has been saved to the MATLAB file\")"
   ]
  }
 ],
 "metadata": {
  "kernelspec": {
   "display_name": "Python 3",
   "language": "python",
   "name": "python3"
  },
  "language_info": {
   "codemirror_mode": {
    "name": "ipython",
    "version": 3
   },
   "file_extension": ".py",
   "mimetype": "text/x-python",
   "name": "python",
   "nbconvert_exporter": "python",
   "pygments_lexer": "ipython3",
   "version": "3.9.6"
  }
 },
 "nbformat": 4,
 "nbformat_minor": 5
}
